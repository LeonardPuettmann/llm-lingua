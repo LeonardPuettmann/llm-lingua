{
 "cells": [
  {
   "cell_type": "code",
   "execution_count": 2,
   "metadata": {},
   "outputs": [],
   "source": [
    "import sqlite3\n",
    "import random\n",
    "\n",
    "def create_connection():\n",
    "    conn = None;\n",
    "    try:\n",
    "        conn = sqlite3.connect('./database/vocabulary.db')\n",
    "    except sqlite3.Error as e:\n",
    "        print(e)\n",
    "    return conn\n"
   ]
  },
  {
   "cell_type": "code",
   "execution_count": 3,
   "metadata": {},
   "outputs": [],
   "source": [
    "def get_random_word():\n",
    "    cursor = conn.cursor()\n",
    "    cursor.execute(\"\"\"\n",
    "        SELECT id, word\n",
    "        FROM dictionary\n",
    "        ORDER BY RANDOM()\n",
    "        LIMIT 1;\n",
    "    \"\"\")\n",
    "    row = cursor.fetchone()\n",
    "\n",
    "    if not row:\n",
    "        return None\n",
    "\n",
    "    idx, word = row\n",
    "    cursor.execute(\"\"\"\n",
    "        UPDATE dictionary\n",
    "        SET covered = 'yes'\n",
    "        WHERE id = ?;\n",
    "    \"\"\", (idx,))\n",
    "\n",
    "    conn.commit()\n",
    "    return word\n",
    "\n",
    "conn = create_connection()"
   ]
  },
  {
   "cell_type": "code",
   "execution_count": 9,
   "metadata": {},
   "outputs": [
    {
     "data": {
      "text/plain": [
       "'torrefazione'"
      ]
     },
     "execution_count": 9,
     "metadata": {},
     "output_type": "execute_result"
    }
   ],
   "source": [
    "get_random_word()"
   ]
  },
  {
   "cell_type": "code",
   "execution_count": null,
   "metadata": {},
   "outputs": [],
   "source": []
  }
 ],
 "metadata": {
  "kernelspec": {
   "display_name": "Python 3",
   "language": "python",
   "name": "python3"
  },
  "language_info": {
   "codemirror_mode": {
    "name": "ipython",
    "version": 3
   },
   "file_extension": ".py",
   "mimetype": "text/x-python",
   "name": "python",
   "nbconvert_exporter": "python",
   "pygments_lexer": "ipython3",
   "version": "3.12.0"
  }
 },
 "nbformat": 4,
 "nbformat_minor": 2
}
